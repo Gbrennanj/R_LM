{
 "cells": [
  {
   "cell_type": "markdown",
   "id": "c8fbe9d1-cc91-4496-8efd-40f98dbe7eed",
   "metadata": {},
   "source": [
    "# R Linear modeling"
   ]
  },
  {
   "cell_type": "code",
   "execution_count": null,
   "id": "8f1d290c-e5ae-4abd-9501-32b98bfba85e",
   "metadata": {},
   "outputs": [],
   "source": []
  }
 ],
 "metadata": {
  "kernelspec": {
   "display_name": "R",
   "language": "R",
   "name": "ir"
  },
  "language_info": {
   "codemirror_mode": "r",
   "file_extension": ".r",
   "mimetype": "text/x-r-source",
   "name": "R",
   "pygments_lexer": "r",
   "version": "4.0.5"
  }
 },
 "nbformat": 4,
 "nbformat_minor": 5
}
